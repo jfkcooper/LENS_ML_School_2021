{
 "cells": [
  {
   "cell_type": "markdown",
   "metadata": {},
   "source": [
    "Visual Attention in CNNs\n",
    "=========================="
   ]
  },
  {
   "cell_type": "code",
   "execution_count": null,
   "metadata": {},
   "outputs": [],
   "source": [
    "%matplotlib inline\n",
    "\n",
    "from model import AttnVGG_after as VGGnet\n",
    "import utilities\n",
    "\n",
    "import matplotlib.pyplot as plt\n",
    "import torch\n",
    "from torch import nn\n",
    "import torchvision\n",
    "from torchvision import transforms\n",
    "from torchvision import utils"
   ]
  },
  {
   "cell_type": "code",
   "execution_count": null,
   "metadata": {},
   "outputs": [],
   "source": [
    "# Init network\n",
    "im_size = 32\n",
    "net = VGGnet(im_size=im_size, num_classes=100, attention=True,\n",
    "             normalize_attn=True, init='xavierUniform')\n",
    "\n",
    "# Load network from file\n",
    "device = torch.device(\"cuda\" if torch.cuda.is_available() else \"cpu\")\n",
    "model = nn.DataParallel(net).to(device)\n",
    "model.load_state_dict(torch.load(f\"nets/net.pth\", map_location=device))"
   ]
  },
  {
   "cell_type": "code",
   "execution_count": null,
   "metadata": {},
   "outputs": [],
   "source": [
    "# Setup data transformation\n",
    "transform_test = transforms.Compose([\n",
    "    transforms.ToTensor(),\n",
    "    transforms.Normalize((0.5071, 0.4867, 0.4408), (0.2675, 0.2565, 0.2761))\n",
    "])\n",
    "\n",
    "# Load CIFAR-100 data and apply transformation, enable shuffling\n",
    "testset = torchvision.datasets.CIFAR100(\n",
    "    root='CIFAR100_data', train=False, download=True, transform=transform_test)\n",
    "testloader = torch.utils.data.DataLoader(testset, batch_size=100, shuffle=True, num_workers=5)"
   ]
  },
  {
   "cell_type": "code",
   "execution_count": null,
   "metadata": {},
   "outputs": [],
   "source": [
    "# Get all images\n",
    "images, _ = next(iter(testloader))\n",
    "\n",
    "# Take first 36 images\n",
    "images = images[0:36]\n",
    "# Organize them on a square grid\n",
    "images_grid = utils.make_grid(images, nrow=6, normalize=True, scale_each=True)\n",
    "\n",
    "plt.imshow(images_grid.permute(1, 2, 0))\n",
    "plt.axis('off')\n",
    "\n",
    "# Apply the model to get compatibility scores\n",
    "_, c1, c2, c3 = model(images)\n",
    "cs = [c1, c2, c3]"
   ]
  },
  {
   "cell_type": "code",
   "execution_count": null,
   "metadata": {},
   "outputs": [],
   "source": [
    "fig, axes = plt.subplots(1, 3)\n",
    "\n",
    "for i, c in enumerate(cs):\n",
    "    # Apply sigmoid to compatibility scores\n",
    "    attn_grid = utilities.visualize_attn_sigmoid(\n",
    "        images_grid, c, up_factor=2**(i+1), nrow=6).permute(1, 2, 0)\n",
    "    axes[i].imshow(attn_grid)\n",
    "    axes[i].axis('off')\n",
    "\n",
    "plt.tight_layout()"
   ]
  }
 ],
 "metadata": {
  "kernelspec": {
   "display_name": "Python 3",
   "language": "python",
   "name": "python3"
  },
  "language_info": {
   "codemirror_mode": {
    "name": "ipython",
    "version": 3
   },
   "file_extension": ".py",
   "mimetype": "text/x-python",
   "name": "python",
   "nbconvert_exporter": "python",
   "pygments_lexer": "ipython3",
   "version": "3.8.5"
  }
 },
 "nbformat": 4,
 "nbformat_minor": 4
}
