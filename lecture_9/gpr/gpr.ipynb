{
 "cells": [
  {
   "cell_type": "markdown",
   "metadata": {},
   "source": [
    "Gaussian Process Regression\n",
    "==========================="
   ]
  },
  {
   "cell_type": "code",
   "execution_count": null,
   "metadata": {},
   "outputs": [],
   "source": [
    "%matplotlib inline\n",
    "\n",
    "import plotting\n",
    "import utils\n",
    "\n",
    "import matplotlib.pyplot as plt\n",
    "import numpy as np\n",
    "import numpy.random as rnd\n",
    "from sklearn.gaussian_process import GaussianProcessRegressor as GPR\n",
    "from sklearn.gaussian_process import kernels"
   ]
  },
  {
   "cell_type": "markdown",
   "metadata": {},
   "source": [
    "**1D case**"
   ]
  },
  {
   "cell_type": "code",
   "execution_count": null,
   "metadata": {},
   "outputs": [],
   "source": [
    "# Define function\n",
    "def f_1D(x):\n",
    "    return np.sin(2*np.pi*x) * np.exp(3*x)\n",
    "\n",
    "# Plot function\n",
    "xs_plt = np.linspace(0, 1, num=100)\n",
    "plt.plot(xs_plt, f_1D(xs_plt))"
   ]
  },
  {
   "cell_type": "code",
   "execution_count": null,
   "metadata": {},
   "outputs": [],
   "source": [
    "# Setup data points\n",
    "xs = np.linspace(0, 1, num=7)\n",
    "fs = f_1D(xs)\n",
    "ys = fs"
   ]
  },
  {
   "cell_type": "code",
   "execution_count": null,
   "metadata": {},
   "outputs": [],
   "source": [
    "# Setup GaussianProcessRegressor\n",
    "kernel = kernels.RBF(length_scale=0.05)\n",
    "gpr = GPR(kernel=kernel,\n",
    "          alpha=1e-4,\n",
    "          optimizer=None,\n",
    "          n_restarts_optimizer=30)\n",
    "#gpr.fit(xs[:, np.newaxis], ys)"
   ]
  },
  {
   "cell_type": "code",
   "execution_count": null,
   "metadata": {},
   "outputs": [],
   "source": [
    "# Plot\n",
    "plotting.plot_gpr_1d(gpr, with_kernel=True, with_lml=False, n_samples=10)\n",
    "plt.tight_layout()"
   ]
  },
  {
   "cell_type": "markdown",
   "metadata": {},
   "source": [
    "**Exercises:**\n",
    "1. Fit the function to the data points.\n",
    "(Comment in `gpr.fit(...)`.)\n",
    "Plot again.\n",
    "2. The current length scale hyperparameter is not suitable for the give data points.\n",
    "Optimize the hyperparameter (i.e., the length scale).\n",
    "(Comment out `optimizer=None`.)\n",
    "Plot again.\n",
    "How did the length scale change?\n",
    "3. Change the number of data points.\n",
    "What is the minimum number of data points that leads to a \"reasonable\" approximation?\n",
    "4. Add noise to the data `ys` (Gaussian, zero mean, fixed standard deviation).\n",
    "Let the GPR know about it by adjusting the `alpha` parameter in the constructor to the noise standard deviation.\n",
    "Fit and plot again.\n",
    "What has changed with the approximation?\n",
    "5. Try different kernels from the `kernels` module.\n",
    "See [https://scikit-learn.org/stable/modules/gaussian_process.html#kernels-for-gaussian-processes](https://scikit-learn.org/stable/modules/gaussian_process.html#kernels-for-gaussian-processes)."
   ]
  },
  {
   "cell_type": "markdown",
   "metadata": {},
   "source": [
    "**2D case**"
   ]
  },
  {
   "cell_type": "code",
   "execution_count": null,
   "metadata": {},
   "outputs": [],
   "source": [
    "# Define function\n",
    "def f_2D(x):\n",
    "    x1 = x[..., 0]\n",
    "    x2 = x[..., 1]\n",
    "\n",
    "    return np.sin(2*np.pi*x1) * np.sin(2*np.pi*x2)"
   ]
  },
  {
   "cell_type": "code",
   "execution_count": null,
   "metadata": {},
   "outputs": [],
   "source": [
    "# Setup data points\n",
    "x1s = np.linspace(0, 1, num=10)\n",
    "x2s = x1s\n",
    "xs = utils.cartesian_product(x1s, x2s)\n",
    "fs = f_2D(xs)\n",
    "ys = fs"
   ]
  },
  {
   "cell_type": "code",
   "execution_count": null,
   "metadata": {},
   "outputs": [],
   "source": [
    "# Setup GaussianProcessRegressor\n",
    "kernel = kernels.RBF(length_scale=[1., 1.])\n",
    "gpr = GPR(kernel=kernel,\n",
    "          alpha=1e-2,\n",
    "          n_restarts_optimizer=100)\n",
    "gpr.fit(xs, ys)"
   ]
  },
  {
   "cell_type": "code",
   "execution_count": null,
   "metadata": {},
   "outputs": [],
   "source": [
    "# Plot\n",
    "plotting.contour_gpr_2d(gpr)\n",
    "plt.tight_layout()\n",
    "\n",
    "plotting.surf_gpr_2d(gpr)\n",
    "plt.tight_layout()"
   ]
  },
  {
   "cell_type": "markdown",
   "metadata": {},
   "source": [
    "**Exercises:**\n",
    "1. What are the optimized length scales?\n",
    "Are they similar/equal?\n",
    "Why?\n",
    "2. Increase the frequency of the function only along one direction.\n",
    "Fit and plot again.\n",
    "Are the optimized length scales still similar?\n",
    "Do they have a relation related to the frequencies?\n",
    "3. Decrease the number of data points.\n",
    "What is the minimum number of data points that leads to a \"reasonable\" approximation?"
   ]
  }
 ],
 "metadata": {
  "kernelspec": {
   "display_name": "Python 3",
   "language": "python",
   "name": "python3"
  },
  "language_info": {
   "codemirror_mode": {
    "name": "ipython",
    "version": 3
   },
   "file_extension": ".py",
   "mimetype": "text/x-python",
   "name": "python",
   "nbconvert_exporter": "python",
   "pygments_lexer": "ipython3",
   "version": "3.8.5"
  }
 },
 "nbformat": 4,
 "nbformat_minor": 4
}
