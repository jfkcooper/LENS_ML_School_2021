{
 "cells": [
  {
   "cell_type": "markdown",
   "metadata": {},
   "source": [
    "Welcome to the \"Hello World\" of recurrent neural networks (RNN).\n",
    "In this notebook we will use RNNs to train a model that is able to forecast the stock price."
   ]
  },
  {
   "cell_type": "markdown",
   "metadata": {},
   "source": [
    "We will use TSLA stock price data from yahoo finance. "
   ]
  },
  {
   "cell_type": "markdown",
   "metadata": {},
   "source": [
    "We will need the following libraries to build and train the network. We will use keras of tensorflow 2."
   ]
  },
  {
   "cell_type": "code",
   "execution_count": 1,
   "metadata": {},
   "outputs": [],
   "source": [
    "import sys\n",
    "import numpy as np  \n",
    "import matplotlib.pyplot as plt  \n",
    "import pandas as pd  \n",
    "import sklearn\n",
    "import tensorflow as tf\n",
    "from tensorflow import keras\n",
    "from tensorflow.python.client import device_lib "
   ]
  },
  {
   "cell_type": "markdown",
   "metadata": {},
   "source": [
    "Make sure we running python3 and tensorflow2."
   ]
  },
  {
   "cell_type": "code",
   "execution_count": 2,
   "metadata": {},
   "outputs": [
    {
     "name": "stdout",
     "output_type": "stream",
     "text": [
      "Running python 3.8.6 (default, Oct 20 2020, 09:50:21) \n",
      "[Clang 11.0.3 (clang-1103.0.32.62)]\n",
      "Running tensorflow 2.4.1\n"
     ]
    }
   ],
   "source": [
    "print(f'Running python {sys.version}')\n",
    "print(f'Running tensorflow {tf.__version__}')"
   ]
  },
  {
   "cell_type": "markdown",
   "metadata": {},
   "source": [
    "Check if you have GPU, enable it if so to make the training faster. Deep RNNs can be slow to train on CPU only computers. However this example is small and fast also with CPU only. If you are in google colab, go to menu Edit > Notebook settings, and make sure that you choose GPU as hardware accelerator. You might need to restart the kernel if you need to change that."
   ]
  },
  {
   "cell_type": "code",
   "execution_count": 3,
   "metadata": {},
   "outputs": [
    {
     "name": "stdout",
     "output_type": "stream",
     "text": [
      "[name: \"/device:CPU:0\"\n",
      "device_type: \"CPU\"\n",
      "memory_limit: 268435456\n",
      "locality {\n",
      "}\n",
      "incarnation: 15210446827671983019\n",
      "]\n"
     ]
    }
   ],
   "source": [
    "print(device_lib.list_local_devices())"
   ]
  },
  {
   "cell_type": "markdown",
   "metadata": {},
   "source": [
    "Let's read and examine the dataset."
   ]
  },
  {
   "cell_type": "code",
   "execution_count": 4,
   "metadata": {},
   "outputs": [
    {
     "data": {
      "text/html": [
       "<div>\n",
       "<style scoped>\n",
       "    .dataframe tbody tr th:only-of-type {\n",
       "        vertical-align: middle;\n",
       "    }\n",
       "\n",
       "    .dataframe tbody tr th {\n",
       "        vertical-align: top;\n",
       "    }\n",
       "\n",
       "    .dataframe thead th {\n",
       "        text-align: right;\n",
       "    }\n",
       "</style>\n",
       "<table border=\"1\" class=\"dataframe\">\n",
       "  <thead>\n",
       "    <tr style=\"text-align: right;\">\n",
       "      <th></th>\n",
       "      <th>Date</th>\n",
       "      <th>Open</th>\n",
       "      <th>High</th>\n",
       "      <th>Low</th>\n",
       "      <th>Close</th>\n",
       "      <th>Adj Close</th>\n",
       "      <th>Volume</th>\n",
       "    </tr>\n",
       "  </thead>\n",
       "  <tbody>\n",
       "    <tr>\n",
       "      <th>0</th>\n",
       "      <td>2010-06-29</td>\n",
       "      <td>3.800000</td>\n",
       "      <td>5.000000</td>\n",
       "      <td>3.508000</td>\n",
       "      <td>4.778000</td>\n",
       "      <td>4.778000</td>\n",
       "      <td>93831500</td>\n",
       "    </tr>\n",
       "    <tr>\n",
       "      <th>1</th>\n",
       "      <td>2010-06-30</td>\n",
       "      <td>5.158000</td>\n",
       "      <td>6.084000</td>\n",
       "      <td>4.660000</td>\n",
       "      <td>4.766000</td>\n",
       "      <td>4.766000</td>\n",
       "      <td>85935500</td>\n",
       "    </tr>\n",
       "    <tr>\n",
       "      <th>2</th>\n",
       "      <td>2010-07-01</td>\n",
       "      <td>5.000000</td>\n",
       "      <td>5.184000</td>\n",
       "      <td>4.054000</td>\n",
       "      <td>4.392000</td>\n",
       "      <td>4.392000</td>\n",
       "      <td>41094000</td>\n",
       "    </tr>\n",
       "    <tr>\n",
       "      <th>3</th>\n",
       "      <td>2010-07-02</td>\n",
       "      <td>4.600000</td>\n",
       "      <td>4.620000</td>\n",
       "      <td>3.742000</td>\n",
       "      <td>3.840000</td>\n",
       "      <td>3.840000</td>\n",
       "      <td>25699000</td>\n",
       "    </tr>\n",
       "    <tr>\n",
       "      <th>4</th>\n",
       "      <td>2010-07-06</td>\n",
       "      <td>4.000000</td>\n",
       "      <td>4.000000</td>\n",
       "      <td>3.166000</td>\n",
       "      <td>3.222000</td>\n",
       "      <td>3.222000</td>\n",
       "      <td>34334500</td>\n",
       "    </tr>\n",
       "    <tr>\n",
       "      <th>...</th>\n",
       "      <td>...</td>\n",
       "      <td>...</td>\n",
       "      <td>...</td>\n",
       "      <td>...</td>\n",
       "      <td>...</td>\n",
       "      <td>...</td>\n",
       "      <td>...</td>\n",
       "    </tr>\n",
       "    <tr>\n",
       "      <th>2672</th>\n",
       "      <td>2021-02-09</td>\n",
       "      <td>855.119995</td>\n",
       "      <td>859.799988</td>\n",
       "      <td>841.750000</td>\n",
       "      <td>849.460022</td>\n",
       "      <td>849.460022</td>\n",
       "      <td>15157700</td>\n",
       "    </tr>\n",
       "    <tr>\n",
       "      <th>2673</th>\n",
       "      <td>2021-02-10</td>\n",
       "      <td>843.640015</td>\n",
       "      <td>844.820007</td>\n",
       "      <td>800.020020</td>\n",
       "      <td>804.820007</td>\n",
       "      <td>804.820007</td>\n",
       "      <td>36216100</td>\n",
       "    </tr>\n",
       "    <tr>\n",
       "      <th>2674</th>\n",
       "      <td>2021-02-11</td>\n",
       "      <td>812.440002</td>\n",
       "      <td>829.880005</td>\n",
       "      <td>801.729980</td>\n",
       "      <td>811.659973</td>\n",
       "      <td>811.659973</td>\n",
       "      <td>21580700</td>\n",
       "    </tr>\n",
       "    <tr>\n",
       "      <th>2675</th>\n",
       "      <td>2021-02-12</td>\n",
       "      <td>801.260010</td>\n",
       "      <td>817.330017</td>\n",
       "      <td>785.330017</td>\n",
       "      <td>816.119995</td>\n",
       "      <td>816.119995</td>\n",
       "      <td>23701700</td>\n",
       "    </tr>\n",
       "    <tr>\n",
       "      <th>2676</th>\n",
       "      <td>2021-02-16</td>\n",
       "      <td>818.000000</td>\n",
       "      <td>821.000000</td>\n",
       "      <td>792.440002</td>\n",
       "      <td>796.219971</td>\n",
       "      <td>796.219971</td>\n",
       "      <td>19686700</td>\n",
       "    </tr>\n",
       "  </tbody>\n",
       "</table>\n",
       "<p>2677 rows × 7 columns</p>\n",
       "</div>"
      ],
      "text/plain": [
       "            Date        Open        High         Low       Close   Adj Close  \\\n",
       "0     2010-06-29    3.800000    5.000000    3.508000    4.778000    4.778000   \n",
       "1     2010-06-30    5.158000    6.084000    4.660000    4.766000    4.766000   \n",
       "2     2010-07-01    5.000000    5.184000    4.054000    4.392000    4.392000   \n",
       "3     2010-07-02    4.600000    4.620000    3.742000    3.840000    3.840000   \n",
       "4     2010-07-06    4.000000    4.000000    3.166000    3.222000    3.222000   \n",
       "...          ...         ...         ...         ...         ...         ...   \n",
       "2672  2021-02-09  855.119995  859.799988  841.750000  849.460022  849.460022   \n",
       "2673  2021-02-10  843.640015  844.820007  800.020020  804.820007  804.820007   \n",
       "2674  2021-02-11  812.440002  829.880005  801.729980  811.659973  811.659973   \n",
       "2675  2021-02-12  801.260010  817.330017  785.330017  816.119995  816.119995   \n",
       "2676  2021-02-16  818.000000  821.000000  792.440002  796.219971  796.219971   \n",
       "\n",
       "        Volume  \n",
       "0     93831500  \n",
       "1     85935500  \n",
       "2     41094000  \n",
       "3     25699000  \n",
       "4     34334500  \n",
       "...        ...  \n",
       "2672  15157700  \n",
       "2673  36216100  \n",
       "2674  21580700  \n",
       "2675  23701700  \n",
       "2676  19686700  \n",
       "\n",
       "[2677 rows x 7 columns]"
      ]
     },
     "execution_count": 4,
     "metadata": {},
     "output_type": "execute_result"
    }
   ],
   "source": [
    "data_url = 'https://query1.finance.yahoo.com/v7/finance/download/TSLA?period1=1277769600&period2=1613520000&interval=1d&events=history&includeAdjustedClose=true'\n",
    "tesla_stock = pd.read_csv(data_url)\n",
    "tesla_stock"
   ]
  },
  {
   "cell_type": "code",
   "execution_count": 5,
   "metadata": {},
   "outputs": [
    {
     "data": {
      "text/plain": [
       "<matplotlib.axes._subplots.AxesSubplot at 0x14c736040>"
      ]
     },
     "execution_count": 5,
     "metadata": {},
     "output_type": "execute_result"
    },
    {
     "data": {
      "image/png": "[encoded data removed]",
      "text/plain": [
       "<Figure size 1080x360 with 1 Axes>"
      ]
     },
     "metadata": {
      "needs_background": "light"
     },
     "output_type": "display_data"
    }
   ],
   "source": [
    "tesla_stock.plot(x='Date',y='Open',figsize=(15,5))"
   ]
  },
  {
   "cell_type": "markdown",
   "metadata": {},
   "source": [
    "We will not use the first 1000 points, since there it was flat around 0 and doesn't contain much of useful history. We will focus on the opening price of the stocks."
   ]
  },
  {
   "cell_type": "code",
   "execution_count": 6,
   "metadata": {},
   "outputs": [
    {
     "name": "stdout",
     "output_type": "stream",
     "text": [
      "[[ 45.776001]\n",
      " [ 45.703999]\n",
      " [ 45.902   ]\n",
      " ...\n",
      " [812.440002]\n",
      " [801.26001 ]\n",
      " [818.      ]]\n"
     ]
    }
   ],
   "source": [
    "to_drop_from_start = 1000\n",
    "tesla_stock_data = tesla_stock.iloc[to_drop_from_start:, 1:2].values\n",
    "print(tesla_stock_data)"
   ]
  },
  {
   "cell_type": "markdown",
   "metadata": {},
   "source": [
    "As usual, networks are good with small numbers, typically around [0,1]. So we will need to scale our data. One option is min-max scaler, another option is the Standard scaler."
   ]
  },
  {
   "cell_type": "code",
   "execution_count": 7,
   "metadata": {},
   "outputs": [],
   "source": [
    "from sklearn.preprocessing import MinMaxScaler  \n",
    "scaler = MinMaxScaler(feature_range=(0, 1))\n",
    "tesla_stock_data_scaled = scaler.fit_transform(tesla_stock_data) "
   ]
  },
  {
   "cell_type": "code",
   "execution_count": 8,
   "metadata": {},
   "outputs": [],
   "source": [
    "days = np.linspace(1, len(tesla_stock_data), len(tesla_stock_data))"
   ]
  },
  {
   "cell_type": "code",
   "execution_count": 9,
   "metadata": {},
   "outputs": [
    {
     "data": {
      "text/plain": [
       "[<matplotlib.lines.Line2D at 0x14ca1f160>]"
      ]
     },
     "execution_count": 9,
     "metadata": {},
     "output_type": "execute_result"
    },
    {
     "data": {
      "image/png": "[encoded data removed]",
      "text/plain": [
       "<Figure size 1080x360 with 1 Axes>"
      ]
     },
     "metadata": {
      "needs_background": "light"
     },
     "output_type": "display_data"
    }
   ],
   "source": [
    "plt.figure(figsize=(15,5))\n",
    "plt.plot(days, tesla_stock_data_scaled)"
   ]
  },
  {
   "cell_type": "markdown",
   "metadata": {},
   "source": [
    "We will take the first 1000 points as training data, the rest for testing."
   ]
  },
  {
   "cell_type": "markdown",
   "metadata": {},
   "source": [
    "In this example we will make a sequence to value network, that uses the values from the past 50 days to predict the value of the next day."
   ]
  },
  {
   "cell_type": "code",
   "execution_count": 10,
   "metadata": {},
   "outputs": [],
   "source": [
    "past_days = 50\n",
    "training_split = 1000\n",
    "validation_split = 1300\n",
    "features = []  \n",
    "labels = []  \n",
    "for i in range(0, training_split - past_days):  \n",
    "    features.append(tesla_stock_data_scaled[i:i+past_days, 0])\n",
    "    labels.append(tesla_stock_data_scaled[i+past_days, 0])\n",
    "features=np.array(features)\n",
    "labels=np.array(labels)"
   ]
  },
  {
   "cell_type": "code",
   "execution_count": 11,
   "metadata": {},
   "outputs": [
    {
     "data": {
      "text/plain": [
       "(950, 50, 1)"
      ]
     },
     "execution_count": 11,
     "metadata": {},
     "output_type": "execute_result"
    }
   ],
   "source": [
    "features = np.reshape(features, (features.shape[0], features.shape[1], 1))\n",
    "features.shape"
   ]
  },
  {
   "cell_type": "code",
   "execution_count": 12,
   "metadata": {},
   "outputs": [
    {
     "data": {
      "text/plain": [
       "(950,)"
      ]
     },
     "execution_count": 12,
     "metadata": {},
     "output_type": "execute_result"
    }
   ],
   "source": [
    "labels.shape"
   ]
  },
  {
   "cell_type": "code",
   "execution_count": 13,
   "metadata": {},
   "outputs": [],
   "source": [
    "from tensorflow.keras.models import Sequential  \n",
    "from tensorflow.keras.layers import Dense\n",
    "from tensorflow.keras.layers import (SimpleRNN, LSTM, GRU)\n",
    "from tensorflow.keras.layers import Dropout  "
   ]
  },
  {
   "cell_type": "markdown",
   "metadata": {},
   "source": [
    "We'll start with the simple rnn, and see how it performs."
   ]
  },
  {
   "cell_type": "code",
   "execution_count": 14,
   "metadata": {},
   "outputs": [],
   "source": [
    "model = Sequential()  \n",
    "model.add(SimpleRNN(units=10, input_shape=(features.shape[1], 1),unroll=False)) \n",
    "model.add(Dropout(0.2)) \n",
    "model.add(Dense(units = 1))"
   ]
  },
  {
   "cell_type": "code",
   "execution_count": 15,
   "metadata": {},
   "outputs": [
    {
     "name": "stdout",
     "output_type": "stream",
     "text": [
      "Model: \"sequential\"\n",
      "_________________________________________________________________\n",
      "Layer (type)                 Output Shape              Param #   \n",
      "=================================================================\n",
      "simple_rnn (SimpleRNN)       (None, 10)                120       \n",
      "_________________________________________________________________\n",
      "dropout (Dropout)            (None, 10)                0         \n",
      "_________________________________________________________________\n",
      "dense (Dense)                (None, 1)                 11        \n",
      "=================================================================\n",
      "Total params: 131\n",
      "Trainable params: 131\n",
      "Non-trainable params: 0\n",
      "_________________________________________________________________\n"
     ]
    }
   ],
   "source": [
    "model.compile(optimizer = 'adam', loss = 'mean_squared_error')\n",
    "model.summary()"
   ]
  },
  {
   "cell_type": "code",
   "execution_count": 18,
   "metadata": {},
   "outputs": [
    {
     "name": "stdout",
     "output_type": "stream",
     "text": [
      "Epoch 1/20\n",
      "24/24 [==============================] - 0s 13ms/step - loss: 2.6756e-05 - val_loss: 1.8202e-05\n",
      "Epoch 2/20\n",
      "24/24 [==============================] - 0s 9ms/step - loss: 2.8952e-05 - val_loss: 2.0088e-05\n",
      "Epoch 3/20\n",
      "24/24 [==============================] - 0s 9ms/step - loss: 2.4181e-05 - val_loss: 1.7048e-05\n",
      "Epoch 4/20\n",
      "24/24 [==============================] - 0s 9ms/step - loss: 2.2962e-05 - val_loss: 1.6967e-05\n",
      "Epoch 5/20\n",
      "24/24 [==============================] - 0s 13ms/step - loss: 2.4655e-05 - val_loss: 1.6861e-05\n",
      "Epoch 6/20\n",
      "24/24 [==============================] - 0s 14ms/step - loss: 2.1942e-05 - val_loss: 1.9499e-05\n",
      "Epoch 7/20\n",
      "24/24 [==============================] - 0s 13ms/step - loss: 2.3081e-05 - val_loss: 1.7124e-05\n",
      "Epoch 8/20\n",
      "24/24 [==============================] - 0s 12ms/step - loss: 2.1111e-05 - val_loss: 2.0281e-05\n",
      "Epoch 9/20\n",
      "24/24 [==============================] - 0s 10ms/step - loss: 2.0965e-05 - val_loss: 1.6932e-05\n",
      "Epoch 10/20\n",
      "24/24 [==============================] - 0s 9ms/step - loss: 2.1084e-05 - val_loss: 1.9707e-05\n",
      "Epoch 11/20\n",
      "24/24 [==============================] - 0s 9ms/step - loss: 1.8468e-05 - val_loss: 1.8932e-05\n",
      "Epoch 12/20\n",
      "24/24 [==============================] - 0s 10ms/step - loss: 1.7297e-05 - val_loss: 1.3805e-05\n",
      "Epoch 13/20\n",
      "24/24 [==============================] - 0s 9ms/step - loss: 1.6191e-05 - val_loss: 1.5663e-05\n",
      "Epoch 14/20\n",
      "24/24 [==============================] - 0s 9ms/step - loss: 1.5794e-05 - val_loss: 1.9486e-05\n",
      "Epoch 15/20\n",
      "24/24 [==============================] - 0s 9ms/step - loss: 1.8747e-05 - val_loss: 1.7630e-05\n",
      "Epoch 16/20\n",
      "24/24 [==============================] - 0s 10ms/step - loss: 1.5599e-05 - val_loss: 2.3357e-05\n",
      "Epoch 17/20\n",
      "24/24 [==============================] - 0s 10ms/step - loss: 2.0151e-05 - val_loss: 1.7646e-05\n",
      "Epoch 18/20\n",
      "24/24 [==============================] - 0s 9ms/step - loss: 1.8469e-05 - val_loss: 1.1949e-05\n",
      "Epoch 19/20\n",
      "24/24 [==============================] - 0s 13ms/step - loss: 1.6985e-05 - val_loss: 1.5009e-05\n",
      "Epoch 20/20\n",
      "24/24 [==============================] - 0s 14ms/step - loss: 1.5776e-05 - val_loss: 1.1775e-05\n"
     ]
    }
   ],
   "source": [
    "history = model.fit(features, labels, validation_split=0.2, epochs = 20, batch_size = 32)"
   ]
  },
  {
   "cell_type": "code",
   "execution_count": 248,
   "metadata": {},
   "outputs": [],
   "source": [
    "# Uncomment this to save your trained model for later use\n",
    "# If you are running a long training, it is good to have this in the same cell as model.fit\n",
    "#model.save('tesla_model.h5')\n",
    "\n",
    "# Then to load it back\n",
    "#from tensorflow.keras.models import load_model\n",
    "#model = load_model('tesla_model.h5')\n",
    "\n",
    "# Note that the model does not contain the training history, but just the final weights\n",
    "# So it is useful to save also the history using json.dump and json.load"
   ]
  },
  {
   "cell_type": "code",
   "execution_count": 19,
   "metadata": {},
   "outputs": [
    {
     "data": {
      "image/png": "[encoded data removed]",
      "text/plain": [
       "<Figure size 432x288 with 1 Axes>"
      ]
     },
     "metadata": {
      "needs_background": "light"
     },
     "output_type": "display_data"
    }
   ],
   "source": [
    "loss = history.history['loss']\n",
    "val_loss = history.history['val_loss']\n",
    "epochs = range(1, len(loss) + 1)\n",
    "plt.plot(epochs, loss, 'blue', label='Training Loss')\n",
    "plt.plot(epochs, val_loss, 'red', label='Validation Loss')\n",
    "plt.title('Loss')\n",
    "plt.xlabel('Epochs')\n",
    "plt.ylabel('Loss')\n",
    "plt.legend()\n",
    "plt.show()"
   ]
  },
  {
   "cell_type": "code",
   "execution_count": 20,
   "metadata": {},
   "outputs": [
    {
     "data": {
      "text/plain": [
       "(500, 50, 1)"
      ]
     },
     "execution_count": 20,
     "metadata": {},
     "output_type": "execute_result"
    }
   ],
   "source": [
    "test_days = 500\n",
    "testing = []\n",
    "for i in range(training_split, training_split + test_days):  \n",
    "    testing.append(tesla_stock_data_scaled[i:i+past_days, 0])\n",
    "testing = np.array(testing)  \n",
    "testing = np.reshape(testing, (testing.shape[0], testing.shape[1], 1))  \n",
    "testing.shape"
   ]
  },
  {
   "cell_type": "code",
   "execution_count": 21,
   "metadata": {},
   "outputs": [],
   "source": [
    "predictions = model.predict(testing) \n",
    "predictions = scaler.inverse_transform(predictions) "
   ]
  },
  {
   "cell_type": "code",
   "execution_count": 22,
   "metadata": {},
   "outputs": [],
   "source": [
    "actual = tesla_stock_data_scaled[training_split+past_days:training_split+past_days+test_days,0]\n",
    "actual = actual.reshape(-1,1)\n",
    "actual = scaler.inverse_transform(actual)"
   ]
  },
  {
   "cell_type": "code",
   "execution_count": 23,
   "metadata": {},
   "outputs": [
    {
     "data": {
      "image/png": "[encoded data removed]",
      "text/plain": [
       "<Figure size 1080x360 with 1 Axes>"
      ]
     },
     "metadata": {
      "needs_background": "light"
     },
     "output_type": "display_data"
    }
   ],
   "source": [
    "plt.figure(figsize=(15,5))  \n",
    "plt.plot(actual, color='blue', label='Actual Tesla Stock Price')  \n",
    "plt.plot(predictions , color='red', label='Predicted Tesla Stock Price')  \n",
    "plt.title('Tesla Stock Price Prediction')  \n",
    "plt.xlabel('Day number')  \n",
    "plt.ylabel('Tesla Stock Price')  \n",
    "plt.legend()  \n",
    "plt.show() "
   ]
  },
  {
   "cell_type": "markdown",
   "metadata": {},
   "source": [
    "- Examine the notebook and run it.\n",
    "- Play around with the parameters: number of nodes, number of epochs, dropout fraction.\n",
    "- Replace the simple rnn with and LSTM, see if it is any better.\n",
    "- Add one more LSTM layer (note that for all the recurrent layers, except the last one, you will need to pass return_sequences=True). Add a dropout afterwards.\n",
    "- Homework: convert the notebook to sequence to sequence, i.e. make it predict the values of 5 days in one shot. You will need to slice the dataset correspondingly. Try on a different dataset, let's say exchange rates."
   ]
  },
  {
   "cell_type": "code",
   "execution_count": null,
   "metadata": {},
   "outputs": [],
   "source": []
  }
 ],
 "metadata": {
  "kernelspec": {
   "display_name": "Python 3",
   "language": "python",
   "name": "python3"
  },
  "language_info": {
   "codemirror_mode": {
    "name": "ipython",
    "version": 3
   },
   "file_extension": ".py",
   "mimetype": "text/x-python",
   "name": "python",
   "nbconvert_exporter": "python",
   "pygments_lexer": "ipython3",
   "version": "3.8.6"
  }
 },
 "nbformat": 4,
 "nbformat_minor": 4
}
