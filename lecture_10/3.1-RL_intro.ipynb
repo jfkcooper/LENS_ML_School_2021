{
 "cells": [
  {
   "cell_type": "markdown",
   "metadata": {},
   "source": [
    "# Reinforcement learning (RL)"
   ]
  },
  {
   "cell_type": "markdown",
   "metadata": {},
   "source": [
    "A computational approach to learning from interaction with the environment [1]. \n",
    "\n",
    "![Robot learns to walk](https://blogs.nvidia.com/wp-content/uploads/2016/01/robot_walk700px1.png)\n",
    "\n",
    "Image from https://blogs.nvidia.com/blog/2016/01/15/deep-learning-robot-walk/\n",
    "\n",
    "## What is it used for?\n",
    "\n",
    "![RL use](rluse.png)\n",
    "\n",
    "Image from https://www.davidsilver.uk/wp-content/uploads/2020/03/intro_RL.pdf\n",
    "\n",
    "Everywhere where autonomous decision making is required. For example:\n",
    "\n",
    "* Teach robot to walk \n",
    "* Play board games (chess, go), play computer games\n",
    "* For [Autonomous Control of a Particle Accelerator](https://arxiv.org/abs/2010.08141)\n",
    "* Teach helicopter to fly autonomously and make maneuvers\n",
    "* ..."
   ]
  },
  {
   "cell_type": "code",
   "execution_count": 1,
   "metadata": {},
   "outputs": [
    {
     "data": {
      "image/jpeg": "[encoded data removed]",
      "text/html": [
       "\n",
       "        <iframe\n",
       "            width=\"400\"\n",
       "            height=\"300\"\n",
       "            src=\"https://www.youtube.com/embed/0JL04JJjocc\"\n",
       "            frameborder=\"0\"\n",
       "            allowfullscreen\n",
       "        ></iframe>\n",
       "        "
      ],
      "text/plain": [
       "<IPython.lib.display.YouTubeVideo at 0x7f75485959d0>"
      ]
     },
     "execution_count": 1,
     "metadata": {},
     "output_type": "execute_result"
    }
   ],
   "source": [
    "from IPython.display import YouTubeVideo\n",
    "\n",
    "YouTubeVideo('0JL04JJjocc', width=400, height=300)"
   ]
  },
  {
   "cell_type": "markdown",
   "metadata": {},
   "source": [
    "See [the paper of Andrew Ng et al](https://people.eecs.berkeley.edu/~jordan/papers/ng-etal03.pdf) for more information on autonomous helicopter."
   ]
  },
  {
   "cell_type": "markdown",
   "metadata": {},
   "source": [
    "## Reinforcement learning vs. unsupervised learning\n",
    "\n",
    "Both do not have a labeled dataset. However, while unsupervised learning tends to find underlying data structure, the goal of reinforcement learning is to find an optimal strategy to maximize the reward. More differences is in the table below.\n",
    "\n",
    "|Unsupervised learning | Reinforcement learning|\n",
    "|:-|:-|\n",
    "|Learning underlying data structure| Learning optimal strategy by trial and error|\n",
    "|No feedback required| Needs feedback on agent's own actions|\n",
    "|Model does not affect the input data| Agent can affect it's own observations|\n",
    "|Time does not play a role| Time is important|\n",
    "\n",
    "## Elements of reinforcement learning\n",
    "\n",
    "* An **agent** is a learner and decision maker. It seeks to archieve a goal, performs **actions** $a$ to change its **state** $s$ and may influence the **environment**.\n",
    "\n",
    "* An **environment** is the thing agent interacts with, comprising everything outside the agent. It may be uncertain.\n",
    "\n",
    "* A **policy** $\\pi(a, s)$ defines the learning agent's way  of behaving at a given time.\n",
    "\n",
    "* A **reward** signal $r$ defines the goal of a RL problem. In general, reward signals may be stochastic functions of the state of the environment and the actions taken. Indicates what is good in immediate case. Rewards a given directly by the enwironment.\n",
    "\n",
    "* A **value function** $v$ in contrast specifies what is good in the long run. Roughly speaking, a **value** of the state  is the total amount of reward an agent can expect to accumulate  over the future, starting from that state. Values must be estimated and re-estimated from the sequence of observations an agent makes over its entire lifetime. A value function of a state $s$ under a policy $\\pi$ is usually denoted $v_{\\pi}(s)$.\n",
    "\n",
    "* A **model** of the environment mimics the behavior of the environment and allows inferences to be made about how the environment will behave. For example, given a state and an action, the model might predict the resultant next state and the next reward. [1]\n",
    "\n",
    "![cat](https://www.guru99.com/images/1/082319_0514_Reinforceme2.png)\n",
    "Image from https://www.guru99.com/reinforcement-learning-tutorial.html\n",
    "\n",
    "Consider the scenario of teaching new tricks to your cat. In this case,\n",
    " * Your cat is an **agent** that is exposed to the **environment**. In this case, it is your house. An example of a **state** could be your cat sitting, and you use a specific word in for cat to walk.\n",
    " \n",
    " * Our agent reacts by performing an **action** - transition from one \"state\" to another \"state.\" For example, your cat goes from sitting to walking.\n",
    " \n",
    " * The reaction of an agent is an action, and the **policy** is a method of selecting an action given a state in expectation of better outcomes.\n",
    " \n",
    " * After the transition, they may get a **reward** or penalty in return [2]. "
   ]
  },
  {
   "cell_type": "markdown",
   "metadata": {},
   "source": [
    "## Introduction to Openai gym\n",
    "\n",
    "Gym [3] is a toolkit for developing and comparing reinforcement learning algorithms. \n",
    "\n",
    "![gym](https://gym.openai.com/assets/docs/aeloop-138c89d44114492fd02822303e6b4b07213010bb14ca5856d2d49d6b62d88e53.svg)\n",
    "\n",
    "Gym has collection of environments.\n",
    "\n",
    "The three main methods of an environment are\n",
    "* **reset()** - reset environment to initial state, _return first observation_\n",
    "* **render()** - display current environment state \n",
    "* **step(a)** - commit action $a$ and return a tuple (new observation, reward, is done, info)\n",
    " * *new observation* - an observation right after commiting the action $a$\n",
    " * *reward* - a real number representing your reward for commiting action $a$\n",
    " * *is done* - True if the goal is reached, False if game is still in progress\n",
    " * *info* - some auxilary stuff about what just happened."
   ]
  },
  {
   "cell_type": "code",
   "execution_count": null,
   "metadata": {},
   "outputs": [],
   "source": [
    "import sys, os\n",
    "if 'google.colab' in sys.modules and not os.path.exists('.xsetup_complete'):\n",
    "    !apt install xvfb\n",
    "    !pip install pyvirtualdisplay\n",
    "    !touch .xsetup_complete"
   ]
  },
  {
   "cell_type": "code",
   "execution_count": 2,
   "metadata": {},
   "outputs": [],
   "source": [
    "import numpy as np\n",
    "from IPython import display\n",
    "import matplotlib.pyplot as plt\n",
    "import gym\n",
    "\n",
    "%matplotlib inline"
   ]
  },
  {
   "cell_type": "code",
   "execution_count": null,
   "metadata": {},
   "outputs": [],
   "source": [
    "# to be able to visualize mountain car on a cloud environment\n",
    "# you need to start a virtual display\n",
    "# this is not needed if you run the code on your local machine\n",
    "from pyvirtualdisplay import Display\n",
    "_display = Display(visible=False, size=(1400, 900))\n",
    "_ = _display.start()"
   ]
  },
  {
   "cell_type": "markdown",
   "metadata": {},
   "source": [
    "### Openai gym Mountain Car environment\n",
    "\n",
    "The function `env.render()` may not work on some cloud environments. You may use my visualization function instead. It is not that fancy, but works. in this case you should replace everywhere `env.render(mode='rgb_array')` with `render_mcar(env)`"
   ]
  },
  {
   "cell_type": "code",
   "execution_count": 4,
   "metadata": {},
   "outputs": [
    {
     "data": {
      "image/png": "[encoded data removed]",
      "text/plain": [
       "<Figure size 432x288 with 1 Axes>"
      ]
     },
     "metadata": {
      "needs_background": "light"
     },
     "output_type": "display_data"
    }
   ],
   "source": [
    "# example with standard rendering function (may not work on cluster)\n",
    "env = gym.make(\"MountainCar-v0\").env\n",
    "env.reset()\n",
    "img = plt.imshow(env.render(mode='rgb_array')) # only call this once\n",
    "\n",
    "for _ in range(100):\n",
    "    img.set_data(env.render(mode='rgb_array')) # just update the data\n",
    "    display.display(plt.gcf())\n",
    "    display.clear_output(wait=True)\n",
    "    action = env.action_space.sample() # take a random action\n",
    "    env.step(action)\n",
    "env.close()"
   ]
  },
  {
   "cell_type": "code",
   "execution_count": 2,
   "metadata": {},
   "outputs": [],
   "source": [
    "# example with my rendering function (should work everywhere)\n",
    "# uncomment it if the above visualization does not work for you\n",
    "#from rendermcar import render_mcar\n",
    "#\n",
    "#env = gym.make(\"MountainCar-v0\").env\n",
    "#env.reset()\n",
    "#img = plt.imshow(render_mcar(env)) # only call this once\n",
    "#\n",
    "#for _ in range(100):\n",
    "#    img.set_data(render_mcar(env)) # just update the data\n",
    "#    display.display(plt.gcf())\n",
    "#    display.clear_output(wait=True)\n",
    "#    action = env.action_space.sample() # take a random action\n",
    "#    env.step(action)\n",
    "#env.close()"
   ]
  },
  {
   "cell_type": "markdown",
   "metadata": {},
   "source": [
    "**Observation space**\n",
    "\n",
    "| index | description |\n",
    "| :- | :- |\n",
    "| 0 | car position |\n",
    "| 1 | car velocity |\n",
    "\n",
    "**Action space**\n",
    "\n",
    "| action | description |\n",
    "| :- | :- |\n",
    "| 0 | go left |\n",
    "| 1 | stop |\n",
    "| 2 | go right |"
   ]
  },
  {
   "cell_type": "code",
   "execution_count": 6,
   "metadata": {},
   "outputs": [
    {
     "name": "stdout",
     "output_type": "stream",
     "text": [
      "Observation space: Box(-1.2000000476837158, 0.6000000238418579, (2,), float32)\n",
      "Action space: Discrete(3)\n"
     ]
    },
    {
     "data": {
      "image/png": "[encoded data removed]",
      "text/plain": [
       "<Figure size 432x288 with 1 Axes>"
      ]
     },
     "metadata": {
      "needs_background": "light"
     },
     "output_type": "display_data"
    }
   ],
   "source": [
    "env = gym.make(\"MountainCar-v0\").env\n",
    "env.reset()\n",
    "\n",
    "plt.imshow(env.render('rgb_array'))\n",
    "print(\"Observation space:\", env.observation_space)\n",
    "print(\"Action space:\", env.action_space)"
   ]
  },
  {
   "cell_type": "code",
   "execution_count": 7,
   "metadata": {},
   "outputs": [
    {
     "name": "stdout",
     "output_type": "stream",
     "text": [
      "Initial observation: [-0.46069042  0.        ]\n",
      "Car position: -0.46069041610297756, car velocity: 0.0\n"
     ]
    }
   ],
   "source": [
    "obs0 = env.reset()\n",
    "print(\"Initial observation:\", obs0)\n",
    "print(\"Car position: {a}, car velocity: {b}\".format(a=obs0[0], b=obs0[1]))"
   ]
  },
  {
   "cell_type": "code",
   "execution_count": 8,
   "metadata": {},
   "outputs": [
    {
     "name": "stdout",
     "output_type": "stream",
     "text": [
      "Taking action 2 (go right)\n",
      "New observation: [-0.46015943  0.00053098]\n",
      "Reward: -1.0\n",
      "Is game over?: False\n"
     ]
    }
   ],
   "source": [
    "print(\"Taking action 2 (go right)\")\n",
    "new_obs, reward, is_done, _ = env.step(2)\n",
    "\n",
    "print(\"New observation:\", new_obs)\n",
    "print(\"Reward:\", reward)\n",
    "print(\"Is game over?:\", is_done)\n",
    "\n",
    "env.close()"
   ]
  },
  {
   "cell_type": "markdown",
   "metadata": {},
   "source": [
    "Let's play a little.\n",
    "\n",
    "### Exercise 1: \n",
    "\n",
    "bring the car to the top of the moutain. The motor of the car is weak and always \"go right\" will not work. Your task is to define a **policy** --- a way how the next action is taken --- to finish the game as soon as possible.\n",
    "\n",
    "Exercise is taken from [4]."
   ]
  },
  {
   "cell_type": "code",
   "execution_count": 9,
   "metadata": {},
   "outputs": [],
   "source": [
    "from IPython import display\n",
    "\n",
    "# Create env manually to set time limit. You don't need to change this\n",
    "TIME_LIMIT = 250\n",
    "env = gym.wrappers.TimeLimit(\n",
    "    gym.envs.classic_control.MountainCarEnv(),\n",
    "    max_episode_steps=TIME_LIMIT + 1,\n",
    ")\n",
    "actions = {'left': 0, 'stop': 1, 'right': 2}"
   ]
  },
  {
   "cell_type": "code",
   "execution_count": 10,
   "metadata": {},
   "outputs": [],
   "source": [
    "def policy(obs, t):\n",
    "    # Write the code for your policy here. You can use the observation\n",
    "    # (a tuple of position and velocity), the current time step, or both,\n",
    "    # if you want.\n",
    "    position, velocity = obs\n",
    "    # (1): put your code here\n",
    "    \n",
    "    # you may change this line as well\n",
    "    # important is that you return a valid action, e.g. 0, 1, or 2.\n",
    "    return actions['right'] "
   ]
  },
  {
   "cell_type": "code",
   "execution_count": 12,
   "metadata": {},
   "outputs": [
    {
     "data": {
      "image/png": "[encoded data removed]",
      "text/plain": [
       "<Figure size 288x216 with 1 Axes>"
      ]
     },
     "metadata": {
      "needs_background": "light"
     },
     "output_type": "display_data"
    }
   ],
   "source": [
    "# play the game and visualize the result\n",
    "\n",
    "plt.figure(figsize=(4, 3))\n",
    "display.clear_output(wait=True)\n",
    "\n",
    "obs = env.reset()\n",
    "for t in range(TIME_LIMIT):\n",
    "    plt.gca().clear()\n",
    "    \n",
    "    action = policy(obs, t)  # Call your policy\n",
    "    obs, reward, done, _ = env.step(action)  # Pass the action chosen by the policy to the environment\n",
    "    \n",
    "    # Draw game image on display.\n",
    "    plt.imshow(env.render('rgb_array'))\n",
    "    \n",
    "    display.clear_output(wait=True)\n",
    "    display.display(plt.gcf())\n",
    "\n",
    "    if done:\n",
    "        print(\"Well done!\")\n",
    "        break\n",
    "else:\n",
    "    print(\"Time limit exceeded. Try again.\")\n",
    "\n",
    "display.clear_output(wait=True)\n",
    "env.close()"
   ]
  },
  {
   "cell_type": "markdown",
   "metadata": {},
   "source": [
    "## Tabular solution methods\n",
    "\n",
    "Such methods are usually used if the state and the action spaces are small enough for the approximate value functions to be represented as arrays, or tables [1].\n",
    "\n",
    "\n",
    "### Markov decision processes (MDP)\n",
    "\n",
    "**Main MDP elements:**\n",
    "\n",
    "* Environment states $s\\in S$, where $S$ is the states space.\n",
    "\n",
    "* Agent actions $a\\in A$, where $A$ is the actions space.\n",
    "\n",
    "* Rewards $r\\in \\mathbb{R}$\n",
    "\n",
    "* Dynamics $P(s_{t+1}|s_t, a_t)$ --- a probability of state $s_{t+1}$ given action $a_t$ in state $s_t$.\n",
    "\n",
    "Markov assumption:\n",
    "\n",
    "$$P(s_{t+1}|s_t, a_t, s_{t-1}, a_{t-1}) = P(s_{t+1}|s_t, a_t)$$\n",
    "\n",
    "Total reward for session: $R = \\sum\\limits_t r_t$\n",
    "\n",
    "Agent's policy $\\pi(a|s) = P(\\text{take action } a|\\text{in state } s)$\n",
    "\n",
    "**Problem:** find policy with highest reward [5]:\n",
    "\n",
    "$$\\pi(a|s): \\mathbb{E}_{\\pi}(R)\\to\\max$$"
   ]
  },
  {
   "cell_type": "markdown",
   "metadata": {},
   "source": [
    "### Cross-entropy method (tabular)\n",
    "\n",
    "1. Intialize policy. Policy is a matrix $\\pi(a|s) = A_{s,a}$\n",
    "2. Repeat:\n",
    "    * Sample $N$ sessions\n",
    "    * Pick $M$ best sessions, called *elite sessions*. Elite$ = [(s_0, a_0), \\dots(s_M, a_M)]$\n",
    "    * Change policy so that it prioritizes actions from elite sessions [5].\n",
    "    \n",
    "    \n",
    "#### Exercise 2: cliff walking\n",
    "\n",
    "Let's see how it works in praxis. The code below is based on [this tutorial](https://github.com/yandexdataschool/Practical_RL/blob/coursera/week1_intro/crossentropy_method.ipynb).\n",
    "\n",
    "![cliff](cliff2.png)\n",
    "Image from http://ai.berkeley.edu/lecture_slides.html\n",
    "\n",
    "\n",
    "We will consider `Cliff walking` environment. Agent needs to find his way to the gem and should not fall into the cliff. He can perform actions causing movement up, down, right, and left. Reward is $-1$ on all transitions except those into the the region marked “The Cliff.” Stepping into this region incurs a reward of $-100$ and sends the agent instantly back to the start.  "
   ]
  },
  {
   "cell_type": "code",
   "execution_count": 13,
   "metadata": {},
   "outputs": [
    {
     "name": "stdout",
     "output_type": "stream",
     "text": [
      "o  o  o  o  o  o  o  o  o  o  o  o\n",
      "o  o  o  o  o  o  o  o  o  o  o  o\n",
      "o  o  o  o  o  o  o  o  o  o  o  o\n",
      "x  C  C  C  C  C  C  C  C  C  C  T\n",
      "\n"
     ]
    }
   ],
   "source": [
    "env = gym.make(\"CliffWalking-v0\")\n",
    "env.reset()\n",
    "env.render()"
   ]
  },
  {
   "cell_type": "code",
   "execution_count": 14,
   "metadata": {},
   "outputs": [
    {
     "name": "stdout",
     "output_type": "stream",
     "text": [
      "n_states=48, n_actions=4\n"
     ]
    }
   ],
   "source": [
    "n_states = env.observation_space.n\n",
    "n_actions = env.action_space.n\n",
    "\n",
    "print(\"n_states=%i, n_actions=%i\" % (n_states, n_actions))"
   ]
  },
  {
   "cell_type": "markdown",
   "metadata": {},
   "source": [
    "**Create stochastic policy**\n",
    "\n",
    "This time our policy should be a probability distribution.\n",
    "\n",
    "```policy[s,a] = P(take action a | in state s)```\n",
    "\n",
    "We will initialize policy __uniformly__, that is, probabililities of all actions should be equal.\n"
   ]
  },
  {
   "cell_type": "code",
   "execution_count": 15,
   "metadata": {},
   "outputs": [],
   "source": [
    "# (2.1): create a numpy array of shape=(n_states, n_actions) \n",
    "# initialized with the equal probabilities for all actions = 1/n_actions\n",
    "policy = # put your code here"
   ]
  },
  {
   "cell_type": "markdown",
   "metadata": {},
   "source": [
    "**Play the game**"
   ]
  },
  {
   "cell_type": "code",
   "execution_count": 16,
   "metadata": {},
   "outputs": [],
   "source": [
    "def generate_session(env, policy, t_max=10**4):\n",
    "    \"\"\"\n",
    "    Play game until end or for t_max ticks.\n",
    "    :param policy: an array of shape [n_states,n_actions] with action probabilities\n",
    "    :returns: list of states, list of actions and sum of rewards\n",
    "    \"\"\"\n",
    "    states, actions = [], []\n",
    "    total_reward = 0.\n",
    "\n",
    "    s = env.reset()\n",
    "\n",
    "    for t in range(t_max):\n",
    "\n",
    "        a = np.random.choice(np.arange(n_actions), p=policy[s])\n",
    "\n",
    "        new_s, r, done, info = env.step(a)\n",
    "\n",
    "        # Record state, action and add up reward to states,actions and total_reward accordingly.\n",
    "        states.append(s)\n",
    "        actions.append(a)\n",
    "        total_reward += r\n",
    "\n",
    "        s = new_s\n",
    "        if done:\n",
    "            break\n",
    "    return states, actions, total_reward"
   ]
  },
  {
   "cell_type": "code",
   "execution_count": 17,
   "metadata": {},
   "outputs": [
    {
     "name": "stdout",
     "output_type": "stream",
     "text": [
      "CPU times: user 5.63 s, sys: 0 ns, total: 5.63 s\n",
      "Wall time: 5.63 s\n"
     ]
    },
    {
     "data": {
      "text/plain": [
       "<matplotlib.legend.Legend at 0x7f61acf92ca0>"
      ]
     },
     "execution_count": 17,
     "metadata": {},
     "output_type": "execute_result"
    },
    {
     "data": {
      "image/png": "[encoded data removed]",
      "text/plain": [
       "<Figure size 432x288 with 1 Axes>"
      ]
     },
     "metadata": {
      "needs_background": "light"
     },
     "output_type": "display_data"
    }
   ],
   "source": [
    "%%time\n",
    "# let's see the initial reward distribution\n",
    "import matplotlib.pyplot as plt\n",
    "%matplotlib inline\n",
    "\n",
    "sample_rewards = [generate_session(env, policy, t_max=1000)[-1] for _ in range(200)]\n",
    "\n",
    "plt.hist(sample_rewards, bins=20)\n",
    "plt.vlines([np.percentile(sample_rewards, 50)], [0], [100], label=\"50'th percentile\", color='green')\n",
    "plt.vlines([np.percentile(sample_rewards, 90)], [0], [100], label=\"90'th percentile\", color='red')\n",
    "plt.legend()"
   ]
  },
  {
   "cell_type": "markdown",
   "metadata": {},
   "source": [
    "**Cross-entropy method steps**"
   ]
  },
  {
   "cell_type": "code",
   "execution_count": 18,
   "metadata": {},
   "outputs": [],
   "source": [
    "def select_elites(states_batch, actions_batch, rewards_batch, percentile):\n",
    "    \"\"\"\n",
    "    Select states and actions from games that have rewards >= percentile\n",
    "    :param states_batch: list of lists of states, states_batch[session_i][t]\n",
    "    :param actions_batch: list of lists of actions, actions_batch[session_i][t]\n",
    "    :param rewards_batch: list of rewards, rewards_batch[session_i]\n",
    "\n",
    "    :returns: elite_states,elite_actions, both 1D lists of states and respective actions from elite sessions\n",
    "\n",
    "    Please return elite states and actions in their original order \n",
    "    [i.e. sorted by session number and timestep within session]\n",
    "    \"\"\"\n",
    "    elite_states = []\n",
    "    elite_actions = []\n",
    "\n",
    "    reward_threshold = np.percentile(rewards_batch, percentile)\n",
    "    \n",
    "    # (2.2): find elite states and elite actions,\n",
    "    # e.g. those whose reward >= than the threshold\n",
    "    # add them to the lists elite_states and ellite_actions\n",
    "    \n",
    "    # put your code here\n",
    "    # you might wish to use np.where and elite_states.extend \n",
    "\n",
    "    \n",
    "    return elite_states, elite_actions"
   ]
  },
  {
   "cell_type": "code",
   "execution_count": 19,
   "metadata": {},
   "outputs": [],
   "source": [
    "def update_policy(elite_states, elite_actions):\n",
    "    \"\"\"\n",
    "    Given old policy and a list of elite states/actions from select_elites,\n",
    "    return new updated policy where each action probability is proportional to\n",
    "\n",
    "    policy[s_i,a_i] ~ #[occurences of si and ai in elite states/actions]\n",
    "\n",
    "    Don't forget to normalize policy to get valid probabilities and handle 0/0 case.\n",
    "    In case you never visited a state, set probabilities for all actions to 1./n_actions\n",
    "\n",
    "    :param elite_states: 1D list of states from elite sessions\n",
    "    :param elite_actions: 1D list of actions from elite sessions\n",
    "\n",
    "    \"\"\"\n",
    "\n",
    "    new_policy = np.zeros([n_states, n_actions])\n",
    "\n",
    "    #update probabilities for actions given elite states & actions\n",
    "    s_unique, s_counts = np.unique(elite_states, return_counts=True)\n",
    "    a = np.array(elite_actions)\n",
    "    s = np.array(elite_states)\n",
    "    for i, s_i in enumerate(s_unique): \n",
    "        actions = a[s == s_i] \n",
    "        a_unique, a_counts = np.unique(actions, return_counts=True) \n",
    "        new_policy[s_i, a_unique] = a_counts/s_counts[i]  \n",
    "\n",
    "    # set 1/n_actions for all actions in unvisited states.  \n",
    "    for i in range(new_policy.shape[0]):\n",
    "        if i not in s_unique: \n",
    "            new_policy[i].fill(1.0/n_actions)\n",
    "\n",
    "    return new_policy"
   ]
  },
  {
   "cell_type": "markdown",
   "metadata": {},
   "source": [
    "**Training loop**\n",
    "\n",
    "Generate sessions, select N best and fit to those."
   ]
  },
  {
   "cell_type": "code",
   "execution_count": 20,
   "metadata": {},
   "outputs": [],
   "source": [
    "from IPython.display import clear_output\n",
    "\n",
    "def show_progress(rewards_batch, log, percentile, reward_range=[-990, +10]):\n",
    "    \"\"\"\n",
    "    A convenience function that displays training progress. \n",
    "    No cool math here, just charts.\n",
    "    \"\"\"\n",
    "\n",
    "    mean_reward = np.mean(rewards_batch)\n",
    "    threshold = np.percentile(rewards_batch, percentile)\n",
    "    log.append([mean_reward, threshold])\n",
    "    \n",
    "    plt.figure(figsize=[8, 4])\n",
    "    plt.subplot(1, 2, 1)\n",
    "    plt.plot(list(zip(*log))[0], label='Mean rewards')\n",
    "    plt.plot(list(zip(*log))[1], label='Reward thresholds')\n",
    "    plt.legend()\n",
    "    plt.grid()\n",
    "\n",
    "    plt.subplot(1, 2, 2)\n",
    "    plt.hist(rewards_batch, range=reward_range)\n",
    "    plt.vlines([np.percentile(rewards_batch, percentile)],\n",
    "               [0], [100], label=\"percentile\", color='red')\n",
    "    plt.legend()\n",
    "    plt.grid()\n",
    "    clear_output(True)\n",
    "    print(\"mean reward = %.3f, threshold=%.3f\" % (mean_reward, threshold))\n",
    "    plt.show()"
   ]
  },
  {
   "cell_type": "code",
   "execution_count": 21,
   "metadata": {},
   "outputs": [
    {
     "name": "stdout",
     "output_type": "stream",
     "text": [
      "mean reward = -14.192, threshold=-15.000\n"
     ]
    },
    {
     "data": {
      "image/png": "[encoded data removed]",
      "text/plain": [
       "<Figure size 576x288 with 2 Axes>"
      ]
     },
     "metadata": {
      "needs_background": "light"
     },
     "output_type": "display_data"
    },
    {
     "name": "stderr",
     "output_type": "stream",
     "text": [
      "100%|██████████| 50/50 [01:53<00:00,  2.27s/it]"
     ]
    },
    {
     "name": "stdout",
     "output_type": "stream",
     "text": [
      "CPU times: user 1min 53s, sys: 284 ms, total: 1min 53s\n",
      "Wall time: 1min 53s\n"
     ]
    },
    {
     "name": "stderr",
     "output_type": "stream",
     "text": [
      "\n"
     ]
    }
   ],
   "source": [
    "%%time\n",
    "from tqdm import tqdm\n",
    "n_sessions = 250  # sample this many sessions\n",
    "percentile = 50  # take this percent of session with highest rewards\n",
    "learning_rate = 0.5  # add this thing to all counts for stability\n",
    "\n",
    "log = []\n",
    "\n",
    "for i in tqdm(range(50)):\n",
    "\n",
    "    %time sessions = [generate_session(env, policy) for i in range(n_sessions)]\n",
    "\n",
    "    states_batch, actions_batch, rewards_batch = zip(*sessions)\n",
    "\n",
    "    elite_states, elite_actions = select_elites(states_batch, actions_batch, rewards_batch, percentile)\n",
    "\n",
    "    new_policy = update_policy(elite_states, elite_actions)\n",
    "\n",
    "    policy = learning_rate*new_policy + (1-learning_rate)*policy\n",
    "\n",
    "    # display results on chart\n",
    "    show_progress(rewards_batch, log, percentile)"
   ]
  },
  {
   "cell_type": "markdown",
   "metadata": {},
   "source": [
    "**Questions**: \n",
    "1. Which mean reward did you achieve? Write answer to the chat. \n",
    "2. What is the best reward agent could achieve in this environment?"
   ]
  },
  {
   "cell_type": "markdown",
   "metadata": {},
   "source": [
    "### Bellman equations\n",
    "\n",
    "Bellman equations are the main toolkit for finding optimal policy. Let's define the main terms.\n",
    "\n",
    "**Cumulative discounted return**\n",
    "\n",
    "$$G_t = \\sum\\limits_{k=0}^{\\infty}\\gamma^k R_{t+k}$$\n",
    "\n",
    "where $\\gamma$ is the *discount factor* and $R_t$ is an *immediate reward* at step $t$.\n",
    "\n",
    "**State-value function $v(s)$**\n",
    "\n",
    "is a return conditional on state $s$:\n",
    "\n",
    "$$v_{\\pi}(s) = \\mathbb{E}_{\\pi}[G_t|S_t=s]$$\n",
    "\n",
    "**Action-value function $q(a, s)$**\n",
    "\n",
    "is a return conditional on state $s$ and action $a$:\n",
    "\n",
    "$$q_{\\pi}(a, s) = \\mathbb{E}_{\\pi}[G_t|S_t=s, A_t=a]$$\n",
    "\n",
    "**Bellman expectation equations**\n",
    "\n",
    "We can formulate Bellman Expectation Equations for a given MDP to find it’s State-Value Function and State-Action Value Function. These equations allow for assessment of the policy performance.\n",
    "\n",
    "$$v_{\\pi}(s) = \\sum\\limits_a\\pi(a|s)\\sum\\limits_{r,s^{\\prime}}p(r, s^{\\prime}| s, a)[r+\\gamma v_{\\pi}(s^{\\prime})] = \\mathbb{E}_{\\pi}[R_t + \\gamma v_{\\pi}(S_{t+1})|S_t=s]$$\n",
    "\n",
    "$$q_{\\pi}(s, a) = \\sum\\limits_{r,s^{\\prime}}p(r, s^{\\prime}| s, a)[r+\\gamma v_{\\pi}(s^{\\prime})] = \\sum\\limits_{r,s^{\\prime}}p(r, s^{\\prime}| s, a)\\left[r+\\gamma\\sum\\limits_{a^{\\prime}}\\pi(a^{\\prime}|s^{\\prime})q_{\\pi}(s^{\\prime},a^{\\prime})\\right]$$\n",
    "\n",
    "The first equation tells us that the value of a particular state is determined by the immediate reward plus the value of successor states when we are following a certain policy $\\pi$.\n",
    "\n",
    "The second equation, tells us that the state-action value of a state can be decomposed into the immediate reward we get on performing a certain action in state $s$ and moving to another state $s^{\\prime}$ plus the discounted value of the state-action value of the state $s^{\\prime}$ with respect to the some action $a$ our agent will take from that state.\n",
    "\n",
    "**Bellman optimality equations**\n",
    "\n",
    "These equations address the problem of finding of the optimal policy $\\pi_*$.\n",
    "\n",
    "$$v_*(s) = \\max\\limits_a\\sum\\limits_{r,s^{\\prime}}p(r, s^{\\prime}| s, a)[r+\\gamma v_*(s^{\\prime})] = \\max\\limits_a\\mathbb{E}_{\\pi}[R_t + \\gamma v_*(S_{t+1})|S_t=s, A_t=a]$$\n",
    "\n",
    "$$q_*(s) = \\sum\\limits_{r,s^{\\prime}}p(r, s^{\\prime}| s, a)[r+\\gamma\\max\\limits_a q_*(s^{\\prime}, a^{\\prime})] = \\mathbb{E}_{\\pi}[R_t + \\gamma \\max\\limits_{a^{\\prime}}q_*(S_{t+1}, a^{\\prime})|S_t=s, A_t=a]$$\n",
    "\n",
    "where $v_*(s)=\\max\\limits_{\\pi}v_{\\pi}(s)$ means use of the optimal policy from state $s$ and $q_*(s, a) = \\max\\limits_{\\pi}q_{\\pi}(s, a)$ means use the optimal policy after commiting action $a$."
   ]
  },
  {
   "cell_type": "markdown",
   "metadata": {},
   "source": [
    "### Q-learning\n",
    "\n",
    "1. Initialize state-action value $q(s, a)$\n",
    "2. Repeat:\n",
    "  - sample $<s, a, r, s^{\\prime}>$ from the environment\n",
    "  - compute $\\hat{q}(s,a)=r(s,a)+\\gamma\\max\\limits_{a_i}q(s^{\\prime},a_i)$\n",
    "  - update $\\hat{q}(s,a)\\leftarrow \\alpha\\hat{q}(s,a)+(1-\\alpha)q(s,a)$ (e.g. with the moving average)\n",
    "\n",
    "### Exploration vs. exploitation\n",
    "\n",
    "![exploration](exploration.png)\n",
    "\n",
    "Image from http://ai.berkeley.edu/lecture_slides.html\n",
    "\n",
    "Taking always the optimal policy not always works. This is solved by taking a random action with a probability $\\epsilon$.\n",
    "\n",
    "### State–action–reward–state–action (SARSA) \n",
    "\n",
    "SARSA gets optimal rewards under current exploration strategy.\n",
    "\n",
    "1. Initialize state-action value $q(s, a)$\n",
    "2. Repeat:\n",
    "  - sample $<s, a, r, s^{\\prime}, a^{\\prime}>$ from the environment\n",
    "  - compute $\\hat{q}(s,a)=r(s,a)+\\gamma q(s^{\\prime},a^{\\prime})$\n",
    "  - update $\\hat{q}(s,a)\\leftarrow \\alpha\\hat{q}(s,a)+(1-\\alpha)q(s,a)$ \n",
    "\n",
    "\n",
    "### Expected value SARSA \n",
    "\n",
    "1. Initialize state-action value $q(s, a)$\n",
    "2. Repeat:\n",
    "  - sample $<s, a, r, s^{\\prime}, a^{\\prime}>$ from the environment\n",
    "  - compute $\\hat{q}(s,a)=r(s,a)+\\gamma \\mathbb{E}_{a_i\\sim\\pi(a|s^{\\prime})} q(s^{\\prime},a^{\\prime})$\n",
    "  - update $\\hat{q}(s,a)\\leftarrow \\alpha\\hat{q}(s,a)+(1-\\alpha)q(s,a)$ \n",
    "\n",
    "\n",
    "### Experience replay\n",
    "\n",
    "Store several past iterations $<s, a, r, s^{\\prime}>$ and train on random subsamples.\n"
   ]
  },
  {
   "cell_type": "markdown",
   "metadata": {},
   "source": [
    "## Approximate solution methods\n",
    "\n",
    "![minecraft](minecraft.png)\n",
    "\n",
    "What if the state space is arbitrary large? Tabular methods are not applicable: we cannot expect to find an optimal policy or value function even having an infinite time and data. \n",
    "\n",
    "Our goal in this case is to find a good approximate solution.\n",
    "\n",
    "Policy $\\pi_W(a|s)$ is approximated, for example, by neural network. Let's see how this will change the tabular methods.\n",
    "\n",
    "### Approximate cross-entropy method\n",
    "\n",
    "1. Initialize weights $W_0$ of the neural network with some random values.\n",
    "2. Repeat:\n",
    "    * Sample $N$ sessions\n",
    "    * Pick $M$ best sessions, called *elite sessions*. Elite$ = [(s_0, a_0), \\dots(s_M, a_M)]$ and concatenate: $$W_{i+1} = W_i + \\alpha\\nabla\\left[\\sum\\limits_{s_i,a_i\\in\\text{Elite}}\\log\\pi_{W_i}(a_i|s_i)\\right]$$\n",
    "    * Maximize likelyhood (`model.fit(elite_states, elite_actions)`) [5].\n",
    "\n",
    "Let's try to use it.\n",
    "\n",
    "#### Exercise 2: \n",
    "\n",
    "Use an approximate cross-entropy method to bring the car to the top of the mountain. This exercise is based on https://github.com/yandexdataschool/Practical_RL/blob/coursera/week1_intro/deep_crossentropy_method.ipynb"
   ]
  },
  {
   "cell_type": "code",
   "execution_count": 22,
   "metadata": {},
   "outputs": [
    {
     "name": "stdout",
     "output_type": "stream",
     "text": [
      "n_actions =  3\n",
      "CPU times: user 128 ms, sys: 3.95 ms, total: 132 ms\n",
      "Wall time: 132 ms\n"
     ]
    },
    {
     "data": {
      "text/plain": [
       "MLPClassifier(activation='tanh', hidden_layer_sizes=(30, 30))"
      ]
     },
     "execution_count": 22,
     "metadata": {},
     "output_type": "execute_result"
    }
   ],
   "source": [
    "%%time\n",
    "from sklearn.neural_network import MLPClassifier\n",
    "\n",
    "env = gym.make('MountainCar-v0').env\n",
    "\n",
    "env.reset()\n",
    "n_actions = env.action_space.n\n",
    "state_dim = env.observation_space.shape[0]\n",
    "print(\"n_actions = \", n_actions)\n",
    "\n",
    "agent = MLPClassifier(\n",
    "    hidden_layer_sizes=(30, 30),\n",
    "    activation='tanh',\n",
    ")\n",
    "\n",
    "# initialize agent to the dimension of state space and number of actions\n",
    "agent.partial_fit([env.step(env.action_space.sample())[0] for _ in range(n_actions)], range(n_actions), range(n_actions))"
   ]
  },
  {
   "cell_type": "code",
   "execution_count": 23,
   "metadata": {},
   "outputs": [],
   "source": [
    "def generate_session_mountain_car(env, agent, t_max=10000):\n",
    "    \"\"\"\n",
    "    Play a single game using agent neural network.\n",
    "    Terminate when game finishes or after :t_max: steps\n",
    "    \"\"\"\n",
    "    states, actions = [], []\n",
    "    total_reward = 0\n",
    "\n",
    "    s = env.reset()\n",
    "\n",
    "    for t in range(t_max):\n",
    "        \n",
    "        # use agent to predict a vector of action probabilities for state :s:\n",
    "        probs = agent.predict_proba(s.reshape(1, -1)).reshape(n_actions)\n",
    "\n",
    "        assert probs.shape == (n_actions,), \"make sure probabilities are a vector (hint: np.reshape)\"\n",
    "        \n",
    "        # use the probabilities you predicted to pick an action\n",
    "        # sample proportionally to the probabilities, don't just take the most likely action\n",
    "        a = np.random.choice(np.arange(n_actions), p=probs)\n",
    "        # ^-- hint: try np.random.choice\n",
    "\n",
    "        new_s, r, done, info = env.step(a)\n",
    "\n",
    "        # record sessions\n",
    "        states.append(s)\n",
    "        actions.append(a)\n",
    "        total_reward += r\n",
    "\n",
    "        s = new_s\n",
    "        if done:\n",
    "            break\n",
    "    \n",
    "    return states, actions, total_reward"
   ]
  },
  {
   "cell_type": "code",
   "execution_count": 24,
   "metadata": {},
   "outputs": [],
   "source": [
    "from IPython.display import clear_output\n",
    "\n",
    "def show_progress(rewards_batch, log, percentile, reward_range=[-990, +10]):\n",
    "    \"\"\"\n",
    "    A convenience function that displays training progress. \n",
    "    No cool math here, just charts.\n",
    "    \"\"\"\n",
    "\n",
    "    mean_reward = np.mean(rewards_batch)\n",
    "    threshold = np.percentile(rewards_batch, percentile)\n",
    "    log.append([mean_reward, threshold])\n",
    "\n",
    "    clear_output(True)\n",
    "    print(\"mean reward = %.3f, threshold=%.3f\" % (mean_reward, threshold))\n",
    "    plt.figure(figsize=[8, 4])\n",
    "    plt.subplot(1, 2, 1)\n",
    "    plt.plot(list(zip(*log))[0], label='Mean rewards')\n",
    "    plt.plot(list(zip(*log))[1], label='Reward thresholds')\n",
    "    plt.legend()\n",
    "    plt.grid()\n",
    "\n",
    "    plt.subplot(1, 2, 2)\n",
    "    plt.hist(rewards_batch, range=reward_range)\n",
    "    plt.vlines([np.percentile(rewards_batch, percentile)],\n",
    "               [0], [100], label=\"percentile\", color='red')\n",
    "    plt.legend()\n",
    "    plt.grid()\n",
    "\n",
    "    plt.show()"
   ]
  },
  {
   "cell_type": "code",
   "execution_count": 25,
   "metadata": {},
   "outputs": [],
   "source": [
    "def select_elites(states_batch, actions_batch, rewards_batch, percentile=50):\n",
    "    \"\"\"\n",
    "    Select states and actions from games that have rewards >= percentile\n",
    "    :param states_batch: list of lists of states, states_batch[session_i][t]\n",
    "    :param actions_batch: list of lists of actions, actions_batch[session_i][t]\n",
    "    :param rewards_batch: list of rewards, rewards_batch[session_i]\n",
    "\n",
    "    :returns: elite_states,elite_actions, both 1D lists of states and respective actions from elite sessions\n",
    "\n",
    "    Please return elite states and actions in their original order \n",
    "    [i.e. sorted by session number and timestep within session]\n",
    "\n",
    "    Please don't assume that states are integers.\n",
    "    \"\"\"\n",
    "    \n",
    "    reward_threshold = np.percentile(rewards_batch, percentile)\n",
    "\n",
    "    idx = np.where(rewards_batch >= reward_threshold)[0]\n",
    "        \n",
    "    elite_states = []\n",
    "    elite_actions = []\n",
    "    for i in idx:\n",
    "      elite_states.extend(states_batch[i])\n",
    "      elite_actions.extend(actions_batch[i])\n",
    "    \n",
    "    return elite_states, elite_actions"
   ]
  },
  {
   "cell_type": "code",
   "execution_count": 26,
   "metadata": {},
   "outputs": [
    {
     "name": "stdout",
     "output_type": "stream",
     "text": [
      "mean reward = -182.380, threshold=-158.700\n"
     ]
    },
    {
     "data": {
      "image/png": "[encoded data removed]",
      "text/plain": [
       "<Figure size 576x288 with 2 Axes>"
      ]
     },
     "metadata": {
      "needs_background": "light"
     },
     "output_type": "display_data"
    },
    {
     "name": "stderr",
     "output_type": "stream",
     "text": [
      "100%|██████████| 50/50 [10:46<00:00, 12.93s/it]"
     ]
    },
    {
     "name": "stdout",
     "output_type": "stream",
     "text": [
      "CPU times: user 10min 45s, sys: 1.58 s, total: 10min 47s\n",
      "Wall time: 10min 46s\n"
     ]
    },
    {
     "name": "stderr",
     "output_type": "stream",
     "text": [
      "\n"
     ]
    }
   ],
   "source": [
    "%%time\n",
    "from tqdm import tqdm\n",
    "n_sessions = 100\n",
    "percentile = 70\n",
    "log = []\n",
    "\n",
    "\n",
    "for i in tqdm(range(50)):\n",
    "    # generate new sessions\n",
    "    sessions = [generate_session_mountain_car(env, agent, t_max=5000) for i in range(n_sessions)]\n",
    "\n",
    "    states_batch, actions_batch, rewards_batch = map(np.array, zip(*sessions))\n",
    "\n",
    "    elite_states, elite_actions = select_elites(states_batch, actions_batch, rewards_batch, percentile)\n",
    "\n",
    "    #<YOUR CODE: partial_fit agent to predict elite_actions(y) from elite_states(X)>\n",
    "    agent.partial_fit(np.array(elite_states).reshape(-1, 2), elite_actions)\n",
    "\n",
    "    show_progress(rewards_batch, log, percentile, reward_range=[np.min(rewards_batch), 0])\n",
    "\n",
    "    if np.mean(rewards_batch) > -150:\n",
    "        print(\"You Win! You may stop training now via KeyboardInterrupt.\")"
   ]
  },
  {
   "cell_type": "code",
   "execution_count": 27,
   "metadata": {},
   "outputs": [],
   "source": [
    "# Record sessions\n",
    "# This will not work on the google.colab because og the bug in gym\n",
    "import gym.wrappers\n",
    "\n",
    "with gym.wrappers.Monitor(gym.make('MountainCar-v0').env, directory=\"video_mcar\", force=True) as env_monitor:\n",
    "    sessions = [generate_session_mountain_car(env_monitor, agent) for _ in range(100)]"
   ]
  },
  {
   "cell_type": "code",
   "execution_count": 28,
   "metadata": {},
   "outputs": [
    {
     "data": {
      "text/html": [
       "\n",
       "<video width=\"320\" height=\"240\" controls>\n",
       "  <source src=\"video_mcar/openaigym.video.0.60545.video000064.mp4\" type=\"video/mp4\">\n",
       "</video>\n"
      ],
      "text/plain": [
       "<IPython.core.display.HTML object>"
      ]
     },
     "execution_count": 28,
     "metadata": {},
     "output_type": "execute_result"
    }
   ],
   "source": [
    "# Show video. This may not work in some setups. \n",
    "\n",
    "from pathlib import Path\n",
    "from IPython.display import HTML\n",
    "\n",
    "video_names = sorted([s for s in Path('video_mcar').iterdir() if s.suffix == '.mp4'])\n",
    "\n",
    "\n",
    "HTML(\"\"\"\n",
    "<video width=\"320\" height=\"240\" controls>\n",
    "  <source src=\"{}\" type=\"video/mp4\">\n",
    "</video>\n",
    "\"\"\".format(video_names[-1]))  # You can also try other indices"
   ]
  },
  {
   "cell_type": "code",
   "execution_count": 29,
   "metadata": {},
   "outputs": [
    {
     "data": {
      "image/png": "[encoded data removed]",
      "text/plain": [
       "<Figure size 504x504 with 1 Axes>"
      ]
     },
     "metadata": {
      "needs_background": "light"
     },
     "output_type": "display_data"
    }
   ],
   "source": [
    "# this code snipped is taken from \n",
    "# https://github.com/yandexdataschool/Practical_RL/blob/coursera/week1_intro/deep_crossentropy_method.ipynb\n",
    "\n",
    "def visualize_mountain_car(env, agent):\n",
    "    # Compute policy for all possible x and v (with discretization)\n",
    "    xs = np.linspace(env.min_position, env.max_position, 100)\n",
    "    vs = np.linspace(-env.max_speed, env.max_speed, 100)\n",
    "    \n",
    "    grid = np.dstack(np.meshgrid(xs, vs[::-1])).transpose(1, 0, 2)\n",
    "    grid_flat = grid.reshape(len(xs) * len(vs), 2)\n",
    "    probs = agent.predict_proba(grid_flat).reshape(len(xs), len(vs), 3).transpose(1, 0, 2)\n",
    "\n",
    "    # # The above code is equivalent to the following:\n",
    "    # probs = np.empty((len(vs), len(xs), 3))\n",
    "    # for i, v in enumerate(vs[::-1]):\n",
    "    #     for j, x in enumerate(xs):\n",
    "    #         probs[i, j, :] = agent.predict_proba([[x, v]])[0]\n",
    "\n",
    "    # Draw policy\n",
    "    f, ax = plt.subplots(figsize=(7, 7))\n",
    "    ax.imshow(probs, extent=(env.min_position, env.max_position, -env.max_speed, env.max_speed), aspect='auto')\n",
    "    ax.set_title('Learned policy: red=left, green=nothing, blue=right')\n",
    "    ax.set_xlabel('position (x)')\n",
    "    ax.set_ylabel('velocity (v)')\n",
    "    \n",
    "    # Sample a trajectory and draw it\n",
    "    states, actions, _ = generate_session_mountain_car(env, agent)\n",
    "    states = np.array(states)\n",
    "    ax.plot(states[:, 0], states[:, 1], color='white')\n",
    "    \n",
    "    # Draw every 3rd action from the trajectory\n",
    "    for (x, v), a in zip(states[::3], actions[::3]):\n",
    "        if a == 0:\n",
    "            plt.arrow(x, v, -0.1, 0, color='white', head_length=0.02)\n",
    "        elif a == 2:\n",
    "            plt.arrow(x, v, 0.1, 0, color='white', head_length=0.02)\n",
    "\n",
    "with gym.make('MountainCar-v0').env as env:\n",
    "    visualize_mountain_car(env, agent)"
   ]
  },
  {
   "cell_type": "markdown",
   "metadata": {},
   "source": [
    "If the video is not recorded correctly, there is a bug in your version of `gym`. It is easy to fix that. You need to open a file `/path/to/gym/wrappers/monitoring/video_recorder.py` and edit this piece of code:\n",
    "\n",
    "```python\n",
    "def capture_frame(self, frame):\n",
    "    if not isinstance(frame, (np.ndarray, np.generic)):\n",
    "        raise error.InvalidFrame('Wrong type {} for {} (must be np.ndarray or np.generic)'.format(type(frame), frame))\n",
    "    if frame.shape != self.frame_shape:\n",
    "        raise error.InvalidFrame(\"Your frame has shape {}, but the VideoRecorder is configured for shape {}.\".format(frame.shape, self.frame_shape))\n",
    "    if frame.dtype != np.uint8:\n",
    "        raise error.InvalidFrame(\"Your frame has data type {}, but we require uint8 (i.e. RGB values from 0-255).\".format(frame.dtype))\n",
    "\n",
    "        self.proc.stdin.write(frame.tobytes())\n",
    "```\n",
    "\n",
    "As you can see, the line `self.proc.stdin.write(frame.tobytes())` is never executed, there is an indentation error which needs to be corrected. After correction the code should look like this:\n",
    "\n",
    "```python\n",
    "def capture_frame(self, frame):\n",
    "    if not isinstance(frame, (np.ndarray, np.generic)):\n",
    "        raise error.InvalidFrame('Wrong type {} for {} (must be np.ndarray or np.generic)'.format(type(frame), frame))\n",
    "    if frame.shape != self.frame_shape:\n",
    "        raise error.InvalidFrame(\"Your frame has shape {}, but the VideoRecorder is configured for shape {}.\".format(frame.shape, self.frame_shape))\n",
    "    if frame.dtype != np.uint8:\n",
    "        raise error.InvalidFrame(\"Your frame has data type {}, but we require uint8 (i.e. RGB values from 0-255).\".format(frame.dtype))\n",
    "\n",
    "    self.proc.stdin.write(frame.tobytes())\n",
    "```"
   ]
  },
  {
   "cell_type": "markdown",
   "metadata": {},
   "source": [
    "### Deep Q-learning with experience replay and target networks\n",
    "\n",
    "Q-network is a neural network that acts as a function approximator for an action-value function $q(s, a; w)\\approx q^*(s,a)$. Q-network can be trained by minimising a sequence of loss functions $L_i(w_i)$, that changes at each iteration. For further details, please refer to [8]. \n",
    "\n",
    "**And now let's try it in praxis!**"
   ]
  },
  {
   "cell_type": "markdown",
   "metadata": {},
   "source": [
    "## References\n",
    "\n",
    "[[1]](http://incompleteideas.net/book/the-book.html) Richard S. Sutton and Andrew G. Barto, *Reinforcement Learning: An Introduction*,  MIT Press, Cambridge, MA, 2018\n",
    "\n",
    "[[2]](https://www.guru99.com/reinforcement-learning-tutorial.html) Reinforcement Learning: What is, Algorithms, Applications, Example \n",
    "\n",
    "[[3]](https://gym.openai.com/docs/) Openai gym documentation\n",
    "\n",
    "[[4]](https://github.com/yandexdataschool/Practical_RL) An open course on reinforcement learning. Taught by HSE University and Yandex School of Data Analysis (YSDA).\n",
    "\n",
    "[[5]](https://www.coursera.org/learn/practical-rl) Coursera course on Practical RL\n",
    "\n",
    "[[6]](https://arxiv.org/abs/1312.5602) Volodymyr Mnih, Koray Kavukcuoglu, David Silver, Alex Graves, Ioannis Antonoglou, Daan Wierstra, Martin Riedmiller, *Playing Atari with Deep Reinforcement Learning*,  arXiv:1312.5602v1\n",
    "\n",
    "[[7]](https://www.davidsilver.uk/teaching/) David Silver, *Lectures on Reinforcement Learning*, 2015\n",
    "\n",
    "[[8]](https://arxiv.org/pdf/1312.5602.pdf) V. Mnih et. al. *Playing Atari with Deep Reinforcement Learning*, arXiv:1312.5602v1, 2013"
   ]
  },
  {
   "cell_type": "markdown",
   "metadata": {},
   "source": [
    "# Solutions\n",
    "\n",
    "**Exercise 1**:\n",
    "\n",
    "Code snippet (1), for example:\n",
    "\n",
    "```python\n",
    "def policy(obs, t):\n",
    "    position, velocity = obs\n",
    "    \n",
    "    if velocity == 0:\n",
    "        return actions['right']\n",
    "    \n",
    "    current_action = 0 if velocity < 0 else 2\n",
    "    epsilon = 1e-03\n",
    "    action = (current_action + 2)%4 if abs(velocity) < epsilon else current_action\n",
    "\n",
    "    return action\n",
    "```\n",
    "\n",
    "This is not a single possible solution. Feel free to find your own one!\n",
    "\n",
    "**Exercise 2**:\n",
    "\n",
    "Code snippet (2.1), for example:\n",
    "\n",
    "```python\n",
    "policy = np.full(shape=(n_states, n_actions), fill_value=1/n_actions)\n",
    "```\n",
    "\n",
    "Code snippet (2.2), for example:\n",
    "\n",
    "```python\n",
    "idx = np.where(rewards_batch >= reward_threshold)[0]\n",
    "\n",
    "for i in idx:\n",
    "    elite_states.extend(states_batch[i])\n",
    "    elite_actions.extend(actions_batch[i])\n",
    "\n",
    "```"
   ]
  },
  {
   "cell_type": "code",
   "execution_count": null,
   "metadata": {},
   "outputs": [],
   "source": []
  }
 ],
 "metadata": {
  "@webio": {
   "lastCommId": null,
   "lastKernelId": null
  },
  "kernelspec": {
   "display_name": "Python 3",
   "language": "python",
   "name": "python3"
  },
  "language_info": {
   "codemirror_mode": {
    "name": "ipython",
    "version": 3
   },
   "file_extension": ".py",
   "mimetype": "text/x-python",
   "name": "python",
   "nbconvert_exporter": "python",
   "pygments_lexer": "ipython3",
   "version": "3.8.5"
  }
 },
 "nbformat": 4,
 "nbformat_minor": 4
}
